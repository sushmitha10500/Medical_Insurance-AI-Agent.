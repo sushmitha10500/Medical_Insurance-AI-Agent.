{
 "cells": [
  {
   "cell_type": "markdown",
   "id": "250c48d7-57db-44d2-9562-63b75c13f3b8",
   "metadata": {},
   "source": [
    "## Objective:   Building an AI Agent using OpenAI API\n",
    "Building an AI Agent that will:     \n",
    "    1. Understand the data context     \n",
    "    2. Accept user queries in natural language       \n",
    "    3. Use OpenAI GPT models to analyze and respond intelligently."
   ]
  },
  {
   "cell_type": "code",
   "execution_count": 1,
   "id": "2b02f2cb-965c-4f50-ad3c-bd852445e97e",
   "metadata": {},
   "outputs": [],
   "source": [
    "from openai import OpenAI\n",
    "\n",
    "client = OpenAI(api_key='YOUR_OPENAI_API_KEY')"
   ]
  },
  {
   "cell_type": "code",
   "execution_count": null,
   "id": "31e8a13d-4978-4708-a65f-a7d9f83ce6f1",
   "metadata": {},
   "outputs": [],
   "source": []
  },
  {
   "cell_type": "markdown",
   "id": "77c517fa-e564-4655-bca5-a79af84defa4",
   "metadata": {},
   "source": [
    "## Importing the Data\n",
    "We are import a dataset based on Medical Insurance.   \n",
    "We will use this data to build an AI Agent that can answer questions based on loan approvals."
   ]
  },
  {
   "cell_type": "code",
   "execution_count": 2,
   "id": "cf1f7099-71a8-45e6-8845-d023d0f0c8bd",
   "metadata": {},
   "outputs": [],
   "source": [
    "import pandas as pd\n",
    "\n",
    "df = pd.read_csv(r\"C:\\Users\\NEELAM SUSHMITHA\\OneDrive\\Documents\\RAMANASOFT INTERNSHIP\\medical_insurance.csv\")"
   ]
  },
  {
   "cell_type": "markdown",
   "id": "d12fa934-dbb2-44be-ab57-3f707e0cd0aa",
   "metadata": {},
   "source": [
    "Now, we will create a function to summarize the data:   \n",
    "This summary will help the agent understand the structure without actually loading the entire data into the prompt (which would exceed token limits)."
   ]
  },
  {
   "cell_type": "code",
   "execution_count": 3,
   "id": "fde20ce4-615f-4e03-b2d9-51820d763163",
   "metadata": {},
   "outputs": [],
   "source": [
    "def create_data_summary(df):\n",
    "    summary = f\"The dataset has {df.shape[0]} rows and {df.shape[1]} columns.\\n\"\n",
    "    summary += \"Columns:\\n\"\n",
    "    for col in df.columns:\n",
    "        summary += f\"- {col} (type: {df[col].dtype})\\n\"\n",
    "    return summary"
   ]
  },
  {
   "cell_type": "markdown",
   "id": "0c6950a5-73f4-4b8b-b69f-813255b71a81",
   "metadata": {},
   "source": [
    "## Building the AI Agent Function  \n",
    "we defined a function ai_agent that takes a user query and the dataset, summarizes the dataset structure, and creates a prompt combining both the context and the question.   \n",
    "This prompt is then sent to OpenAI’s GPT-4o model using the client.chat.completions.create() method, and the model’s step-by-step, natural-language response is returned to the user."
   ]
  },
  {
   "cell_type": "code",
   "execution_count": 4,
   "id": "a7e29afe-6266-4435-841e-fb1f0c2351fa",
   "metadata": {},
   "outputs": [],
   "source": [
    "def ai_agent(user_query, df):\n",
    "    data_context = create_data_summary(df)\n",
    "\n",
    "    prompt = f\"\"\"\n",
    "You are a data expert AI agent.\n",
    "\n",
    "You have been provided with this dataset summary:\n",
    "{data_context}\n",
    "\n",
    "Now, based on the user's question:\n",
    "'{user_query}'\n",
    "\n",
    "Think step-by-step. Assume you can access and analyze the dataset like a Data Scientist would using Pandas.\n",
    "\n",
    "Give a clear, final answer.\n",
    "    \"\"\"\n",
    "\n",
    "    response = client.chat.completions.create(\n",
    "        model=\"gpt-4o\",\n",
    "        messages=[{\"role\": \"user\", \"content\": prompt}],\n",
    "        temperature=0.2,\n",
    "        max_tokens=500\n",
    "    )\n",
    "\n",
    "    answer = response.choices[0].message.content\n",
    "    return answer"
   ]
  },
  {
   "cell_type": "markdown",
   "id": "8870c184-fb05-4007-8d6a-1f8e2745948e",
   "metadata": {},
   "source": [
    "## Now, we will create an interactive loop where users can ask questions to the AI Agent:  \n",
    "we have created a simple interactive loop that continuously prompts the user to ask questions.   \n",
    "When the user inputs a query, it is passed to the ai_agent function, which processes it and returns a natural language answer based on the dataset.   \n",
    "If the user types “exit,” the loop breaks and the program ends."
   ]
  },
  {
   "cell_type": "code",
   "execution_count": 5,
   "id": "c37a4f33-f529-492c-b102-0e840834b9a4",
   "metadata": {},
   "outputs": [
    {
     "name": "stdout",
     "output_type": "stream",
     "text": [
      "Welcome to Loan Review AI Agent!\n",
      "You can ask anything about the loan applicants data.\n",
      "Type 'exit' to quit.\n"
     ]
    },
    {
     "name": "stdin",
     "output_type": "stream",
     "text": [
      "\n",
      "Your question:  Which feature has the strongest impact on the insurance charges?\n"
     ]
    },
    {
     "name": "stdout",
     "output_type": "stream",
     "text": [
      "\n",
      "AI Agent Response:\n",
      "To determine which feature has the strongest impact on the insurance charges (expenses), we can follow these steps:\n",
      "\n",
      "1. **Understand the Dataset**: We have a dataset with 1338 rows and 8 columns. The column of interest for this analysis is `expenses`, which represents the insurance charges.\n",
      "\n",
      "2. **Identify Potential Features**: The features available in the dataset that might impact `expenses` are:\n",
      "   - `age` (int64)\n",
      "   - `gender` (object)\n",
      "   - `bmi` (float64)\n",
      "   - `children` (int64)\n",
      "   - `discount_eligibility` (object)\n",
      "   - `region` (object)\n",
      "   - `premium` (float64)\n",
      "\n",
      "3. **Data Preprocessing**: Before analysis, ensure that categorical variables (`gender`, `discount_eligibility`, `region`) are encoded appropriately, such as using one-hot encoding, to be used in correlation or regression analysis.\n",
      "\n",
      "4. **Correlation Analysis**: Calculate the correlation coefficients between `expenses` and the numerical features (`age`, `bmi`, `children`, `premium`). This can be done using the `corr()` function in Pandas. The correlation coefficient will indicate the strength and direction of the linear relationship between each feature and `expenses`.\n",
      "\n",
      "5. **Regression Analysis**: Perform a regression analysis, such as linear regression, to quantify the impact of each feature on `expenses`. This will help in understanding the relationship, especially for categorical variables after encoding.\n",
      "\n",
      "6. **Feature Importance**: If using a machine learning model like a decision tree or random forest, extract feature importance scores to see which features contribute most to predicting `expenses`.\n",
      "\n",
      "7. **Analyze Results**:\n",
      "   - From the correlation analysis, identify which feature has the highest absolute correlation with `expenses`.\n",
      "   - From the regression analysis, look at the coefficients to see which feature has the largest impact.\n",
      "   - From feature importance, identify the feature with the highest importance score.\n",
      "\n",
      "8. **Conclusion**: Based on the analyses, determine which feature consistently shows the strongest relationship with `expenses`.\n",
      "\n",
      "Given the typical nature of insurance datasets, `bmi`, `age`, and `premium` are often strong predictors of insurance expenses. However, without running the actual analysis, we cannot definitively say which one is the strongest. \n",
      "\n",
      "**Final Answer**: To determine the feature with the strongest impact on insurance charges, perform correlation and regression analyses. Typically, features like `bmi`,\n"
     ]
    },
    {
     "name": "stdin",
     "output_type": "stream",
     "text": [
      "\n",
      "Your question:  Can you profile a typical low-cost and high-cost insurance applicant?\n"
     ]
    },
    {
     "name": "stdout",
     "output_type": "stream",
     "text": [
      "\n",
      "AI Agent Response:\n",
      "To profile a typical low-cost and high-cost insurance applicant, we need to analyze the dataset by examining the characteristics associated with lower and higher insurance expenses. Here's a step-by-step approach to achieve this:\n",
      "\n",
      "1. **Data Segmentation**: \n",
      "   - Divide the dataset into two segments: low-cost and high-cost applicants. This can be done by determining a threshold for expenses. For simplicity, we can use the median or a specific percentile (e.g., 25th percentile for low-cost and 75th percentile for high-cost) to segment the data.\n",
      "\n",
      "2. **Descriptive Statistics**:\n",
      "   - Calculate descriptive statistics (mean, median, mode) for each segment to understand the central tendency and distribution of each feature within the low-cost and high-cost groups.\n",
      "\n",
      "3. **Feature Analysis**:\n",
      "   - Analyze each feature to identify patterns or characteristics that differentiate low-cost from high-cost applicants. This includes:\n",
      "     - **Age**: Determine if there is a significant difference in the average age between the two groups.\n",
      "     - **Gender**: Check the distribution of gender in each group to see if one gender is more prevalent in either group.\n",
      "     - **BMI**: Analyze the average BMI to see if higher or lower BMI is associated with higher or lower costs.\n",
      "     - **Children**: Look at the average number of children to see if having more or fewer children correlates with cost.\n",
      "     - **Discount Eligibility**: Examine the proportion of applicants eligible for discounts in each group.\n",
      "     - **Region**: Identify if certain regions are more associated with low or high costs.\n",
      "     - **Premium**: Compare the average premium in each group to see if it correlates with expenses.\n",
      "\n",
      "4. **Correlation Analysis**:\n",
      "   - Perform a correlation analysis to see which features have the strongest relationship with expenses. This can help identify key drivers of cost.\n",
      "\n",
      "5. **Profile Construction**:\n",
      "   - Based on the analysis, construct profiles for typical low-cost and high-cost applicants by summarizing the key characteristics identified.\n",
      "\n",
      "### Final Answer:\n",
      "\n",
      "**Typical Low-Cost Insurance Applicant:**\n",
      "- **Age**: Likely younger, as younger individuals often have lower health-related expenses.\n",
      "- **Gender**: Depending on the dataset, one gender may be more prevalent in the low-cost group.\n",
      "- **BMI**: Typically lower BMI, as higher BMI can be associated with health issues leading to higher expenses.\n",
      "- **Children**: Fewer children, as having more dependents can\n"
     ]
    },
    {
     "name": "stdin",
     "output_type": "stream",
     "text": [
      "\n",
      "Your question:  exit\n"
     ]
    }
   ],
   "source": [
    "print(\"Welcome to Loan Review AI Agent!\")\n",
    "print(\"You can ask anything about the loan applicants data.\")\n",
    "print(\"Type 'exit' to quit.\")\n",
    "\n",
    "while True:\n",
    "    user_input = input(\"\\nYour question: \")\n",
    "    if user_input.lower() == \"exit\":\n",
    "        break\n",
    "    response = ai_agent(user_input, df)\n",
    "    print(\"\\nAI Agent Response:\")\n",
    "    print(response)"
   ]
  },
  {
   "cell_type": "markdown",
   "id": "3ea010a7-1874-49d1-bc6d-157124b8a175",
   "metadata": {},
   "source": [
    "## Conclusion:\n",
    "we can build an AI Agent using the OpenAI API.    \n",
    "Using the OpenAI API, we can create agents that understand context, reason through information, and respond naturally to user queries."
   ]
  },
  {
   "cell_type": "code",
   "execution_count": null,
   "id": "928f705e-3ca0-4e35-9ba4-633d9067146c",
   "metadata": {},
   "outputs": [],
   "source": []
  }
 ],
 "metadata": {
  "kernelspec": {
   "display_name": "Python 3 (ipykernel)",
   "language": "python",
   "name": "python3"
  },
  "language_info": {
   "codemirror_mode": {
    "name": "ipython",
    "version": 3
   },
   "file_extension": ".py",
   "mimetype": "text/x-python",
   "name": "python",
   "nbconvert_exporter": "python",
   "pygments_lexer": "ipython3",
   "version": "3.12.4"
  }
 },
 "nbformat": 4,
 "nbformat_minor": 5
}
